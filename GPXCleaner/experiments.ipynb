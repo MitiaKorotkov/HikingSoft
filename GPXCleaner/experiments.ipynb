{
 "cells": [
  {
   "cell_type": "code",
   "execution_count": 155,
   "metadata": {},
   "outputs": [],
   "source": [
    "import pandas as pd\n",
    "import numpy as np\n",
    "\n",
    "from sklearn.cluster import DBSCAN\n",
    "\n",
    "import matplotlib.pyplot as plt\n",
    "import seaborn as sns\n",
    "\n",
    "from gpx_parser import read_gpx\n",
    "from analiser import (\n",
    "    create_track_dataframe,\n",
    "    add_angles_betwen_segments,\n",
    "    add_vector_segments,\n",
    "    add_arc_lengths_betwen_segments,\n",
    "    add_arc_distances_from_start,\n",
    "    add_distances_from_start,\n",
    "    add_lengths_betwen_segments,\n",
    "    add_oriented_angles_betwen_segments,\n",
    "    add_velocities,\n",
    "    make_plot,\n",
    "    make_pairplt,\n",
    ")"
   ]
  },
  {
   "cell_type": "code",
   "execution_count": 156,
   "metadata": {},
   "outputs": [],
   "source": [
    "# df = read_gpx(\"Korotkov_2023\", [\"Gvandra\"])\n",
    "\n",
    "df = read_gpx(\"Chashnikova_2024_row\", [\"Трек_КОЛЬЦО12\"])\n",
    "\n",
    "# df = read_gpx(\"bad_example\", [\"track\"])"
   ]
  },
  {
   "cell_type": "code",
   "execution_count": 157,
   "metadata": {},
   "outputs": [
    {
     "name": "stderr",
     "output_type": "stream",
     "text": [
      "p:\\HikingSoft\\GPXCleaner\\spheric_geometry.py:59: RuntimeWarning: divide by zero encountered in scalar divide\n",
      "  B = (cos_b - cos_a * cos_c) / sin_a / sin_c\n",
      "p:\\HikingSoft\\GPXCleaner\\analiser.py:85: RuntimeWarning: invalid value encountered in scalar power\n",
      "  return ((x[0] - y[0]) ** 2 + (x[1] - y[1])) ** 0.5\n"
     ]
    }
   ],
   "source": [
    "add_arc_distances_from_start(df)\n",
    "add_angles_betwen_segments(df)\n",
    "add_lengths_betwen_segments(df)\n",
    "# add_arc_lengths_betwen_segments(df)"
   ]
  },
  {
   "cell_type": "code",
   "execution_count": 158,
   "metadata": {},
   "outputs": [],
   "source": [
    "lons = np.array(df[\"rel_lon\"])\n",
    "lats = np.array(df[\"rel_lat\"])\n",
    "points = np.array(list(zip(lats, lons)))"
   ]
  },
  {
   "cell_type": "code",
   "execution_count": 159,
   "metadata": {},
   "outputs": [],
   "source": [
    "epsilon = df[\"lengths_betwen_segments\"].mean()\n",
    "db = DBSCAN(eps=epsilon, min_samples=2).fit(points)\n",
    "labels = db.labels_"
   ]
  },
  {
   "cell_type": "code",
   "execution_count": 160,
   "metadata": {},
   "outputs": [],
   "source": [
    "with open('tmp.txt', 'w') as file:\n",
    "    for point, label in zip(points, labels):\n",
    "        file.write(f'{point[0]},{point[1]},{label}\\n')"
   ]
  },
  {
   "cell_type": "code",
   "execution_count": 161,
   "metadata": {},
   "outputs": [],
   "source": [
    "df['cluster_label'] = pd.Series(labels)"
   ]
  },
  {
   "cell_type": "code",
   "execution_count": 162,
   "metadata": {},
   "outputs": [],
   "source": [
    "n_rolling_window = 20 # Размер скользящего окна\n",
    "df[f'metric_{n_rolling_window}'] = df['angles_betwen_segments'].rolling(window=n_rolling_window).mean()"
   ]
  },
  {
   "cell_type": "code",
   "execution_count": 163,
   "metadata": {},
   "outputs": [],
   "source": [
    "mini_df = df[['arc_distances_from_start', 'metric_20', 'cluster_label']]\n",
    "\n",
    "\n",
    "# sns.pairplot(data=mini_df, hue='cluster_label', height=10, palette='Paired')\n",
    "# plt.show()"
   ]
  },
  {
   "cell_type": "code",
   "execution_count": 164,
   "metadata": {},
   "outputs": [],
   "source": [
    "threashold = 1.25\n",
    "\n",
    "bad_labels = df[df['metric_20'] < threashold]['cluster_label'].values\n",
    "\n",
    "clean_df = df[~df['cluster_label'].isin(bad_labels)]"
   ]
  },
  {
   "cell_type": "code",
   "execution_count": 165,
   "metadata": {},
   "outputs": [],
   "source": [
    "import xml.etree.ElementTree as et\n",
    "\n",
    "def create_gpx_file(coordinates, output_file):\n",
    "    gpx = et.Element(\"gpx\", version=\"1.1\", xmlns=\"http://www.topografix.com/GPX/1/1\")\n",
    "    track = et.SubElement(gpx, 'trk')\n",
    "    \n",
    "    name = et.SubElement(gpx, 'name')\n",
    "    name.text = 'tmp_name'\n",
    "\n",
    "    track_segment = et.SubElement(track, 'trkseg')\n",
    "    \n",
    "    for lat, lon in coordinates:\n",
    "        point = et.SubElement(track_segment, 'trkpt', attrib={'lat': str(lat), 'lon': str(lon)})\n",
    "\n",
    "    tree = et.ElementTree(gpx)\n",
    "    tree.write(output_file, encoding=\"utf-8\", xml_declaration=True)\n"
   ]
  },
  {
   "cell_type": "code",
   "execution_count": 166,
   "metadata": {},
   "outputs": [],
   "source": [
    "lons = np.array(clean_df[\"lon\"])\n",
    "lats = np.array(clean_df[\"lat\"])\n",
    "points = np.array(list(zip(lats, lons)))\n",
    "\n",
    "points = points * 180 / np.pi"
   ]
  },
  {
   "cell_type": "code",
   "execution_count": 167,
   "metadata": {},
   "outputs": [],
   "source": [
    "create_gpx_file(points, 'tmp.gpx')"
   ]
  }
 ],
 "metadata": {
  "kernelspec": {
   "display_name": "hiking",
   "language": "python",
   "name": "python3"
  },
  "language_info": {
   "codemirror_mode": {
    "name": "ipython",
    "version": 3
   },
   "file_extension": ".py",
   "mimetype": "text/x-python",
   "name": "python",
   "nbconvert_exporter": "python",
   "pygments_lexer": "ipython3",
   "version": "3.12.7"
  }
 },
 "nbformat": 4,
 "nbformat_minor": 2
}
